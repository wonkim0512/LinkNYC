{
 "cells": [
  {
   "cell_type": "markdown",
   "metadata": {},
   "source": [
    "# Introduction\n",
    "<img src=\"images/LinkNYC_kiosks.jpg\",width=600, height=600>"
   ]
  },
  {
   "cell_type": "code",
   "execution_count": 1,
   "metadata": {
    "collapsed": false
   },
   "outputs": [],
   "source": [
    "import numpy as np\n",
    "import pandas as pd"
   ]
  },
  {
   "cell_type": "code",
   "execution_count": 2,
   "metadata": {
    "collapsed": false
   },
   "outputs": [],
   "source": [
    "LinkNYC_kiosks_location = pd.read_csv('~/dss4/LinkNYC/wifi_related_csv/LinkNYC_Locations.csv')\n",
    "subway_entrance_location = pd.read_csv('~/dss4/LinkNYC/nyc_subway/NYC_Transit_Subway_Entrance_And_Exit_data.csv')"
   ]
  },
  {
   "cell_type": "code",
   "execution_count": 3,
   "metadata": {
    "collapsed": false,
    "scrolled": false
   },
   "outputs": [
    {
     "data": {
      "text/html": [
       "<div>\n",
       "<table border=\"1\" class=\"dataframe\">\n",
       "  <thead>\n",
       "    <tr style=\"text-align: right;\">\n",
       "      <th></th>\n",
       "      <th>CB Link ID</th>\n",
       "      <th>Boro</th>\n",
       "      <th>Community Board</th>\n",
       "      <th>Latitude</th>\n",
       "      <th>Longitude</th>\n",
       "      <th>Link Installation Status</th>\n",
       "      <th>Smallest PPT</th>\n",
       "      <th>Street Address</th>\n",
       "      <th>Kiosk Bearing</th>\n",
       "      <th>Boro ID</th>\n",
       "      <th>Link Site ID</th>\n",
       "      <th>Link Smoke Tested and Activated (A)</th>\n",
       "      <th>Link Installation (A)</th>\n",
       "      <th>Location</th>\n",
       "    </tr>\n",
       "  </thead>\n",
       "  <tbody>\n",
       "    <tr>\n",
       "      <th>632</th>\n",
       "      <td>LINK-018388</td>\n",
       "      <td>Staten Island</td>\n",
       "      <td>502</td>\n",
       "      <td>40.579636</td>\n",
       "      <td>-74.100654</td>\n",
       "      <td>A - Link Live</td>\n",
       "      <td>145736</td>\n",
       "      <td>2083 Hylan Blvd</td>\n",
       "      <td>NaN</td>\n",
       "      <td>NaN</td>\n",
       "      <td>si-02-145736</td>\n",
       "      <td>2/28/17</td>\n",
       "      <td>02/19/2017</td>\n",
       "      <td>(40.579635722347497, -74.100653709118305)</td>\n",
       "    </tr>\n",
       "    <tr>\n",
       "      <th>633</th>\n",
       "      <td>LINK-018405</td>\n",
       "      <td>Staten Island</td>\n",
       "      <td>502</td>\n",
       "      <td>40.597715</td>\n",
       "      <td>-74.083828</td>\n",
       "      <td>A - Link Live</td>\n",
       "      <td>145732</td>\n",
       "      <td>1232 Hylan Blvd</td>\n",
       "      <td>NaN</td>\n",
       "      <td>NaN</td>\n",
       "      <td>si-02-145732</td>\n",
       "      <td>2/28/17</td>\n",
       "      <td>02/19/2017</td>\n",
       "      <td>(40.597715078535202, -74.083828345887497)</td>\n",
       "    </tr>\n",
       "    <tr>\n",
       "      <th>634</th>\n",
       "      <td>LINK-018406</td>\n",
       "      <td>Staten Island</td>\n",
       "      <td>502</td>\n",
       "      <td>40.598002</td>\n",
       "      <td>-74.083050</td>\n",
       "      <td>A - Link Live</td>\n",
       "      <td>145735</td>\n",
       "      <td>1220 Hylan Blvd</td>\n",
       "      <td>NaN</td>\n",
       "      <td>NaN</td>\n",
       "      <td>si-02-145735</td>\n",
       "      <td>2/28/17</td>\n",
       "      <td>02/19/2017</td>\n",
       "      <td>(40.598001994381299, -74.083050385855003)</td>\n",
       "    </tr>\n",
       "    <tr>\n",
       "      <th>635</th>\n",
       "      <td>LINK-018407</td>\n",
       "      <td>Staten Island</td>\n",
       "      <td>502</td>\n",
       "      <td>40.581309</td>\n",
       "      <td>-74.112015</td>\n",
       "      <td>A - Link Live</td>\n",
       "      <td>145733</td>\n",
       "      <td>2110 Richmond Rd</td>\n",
       "      <td>NaN</td>\n",
       "      <td>NaN</td>\n",
       "      <td>si-02-145733</td>\n",
       "      <td>2003-02-17</td>\n",
       "      <td>02/19/2017</td>\n",
       "      <td>(40.581309259206897, -74.112015365225602)</td>\n",
       "    </tr>\n",
       "    <tr>\n",
       "      <th>636</th>\n",
       "      <td>LINK-019377</td>\n",
       "      <td>Staten Island</td>\n",
       "      <td>502</td>\n",
       "      <td>40.564789</td>\n",
       "      <td>-74.115318</td>\n",
       "      <td>A - Link Live</td>\n",
       "      <td>145738</td>\n",
       "      <td>2754 Hylan Blvd</td>\n",
       "      <td>NaN</td>\n",
       "      <td>NaN</td>\n",
       "      <td>si-02-145738</td>\n",
       "      <td>2/28/17</td>\n",
       "      <td>02/19/2017</td>\n",
       "      <td>(40.564788999999998, -74.115318000000002)</td>\n",
       "    </tr>\n",
       "  </tbody>\n",
       "</table>\n",
       "</div>"
      ],
      "text/plain": [
       "      CB Link ID           Boro  Community Board   Latitude  Longitude  \\\n",
       "632  LINK-018388  Staten Island              502  40.579636 -74.100654   \n",
       "633  LINK-018405  Staten Island              502  40.597715 -74.083828   \n",
       "634  LINK-018406  Staten Island              502  40.598002 -74.083050   \n",
       "635  LINK-018407  Staten Island              502  40.581309 -74.112015   \n",
       "636  LINK-019377  Staten Island              502  40.564789 -74.115318   \n",
       "\n",
       "    Link Installation Status  Smallest PPT    Street Address Kiosk Bearing  \\\n",
       "632            A - Link Live        145736   2083 Hylan Blvd           NaN   \n",
       "633            A - Link Live        145732   1232 Hylan Blvd           NaN   \n",
       "634            A - Link Live        145735   1220 Hylan Blvd           NaN   \n",
       "635            A - Link Live        145733  2110 Richmond Rd           NaN   \n",
       "636            A - Link Live        145738   2754 Hylan Blvd           NaN   \n",
       "\n",
       "    Boro ID  Link Site ID Link Smoke Tested and Activated (A)  \\\n",
       "632     NaN  si-02-145736                             2/28/17   \n",
       "633     NaN  si-02-145732                             2/28/17   \n",
       "634     NaN  si-02-145735                             2/28/17   \n",
       "635     NaN  si-02-145733                          2003-02-17   \n",
       "636     NaN  si-02-145738                             2/28/17   \n",
       "\n",
       "    Link Installation (A)                                   Location  \n",
       "632            02/19/2017  (40.579635722347497, -74.100653709118305)  \n",
       "633            02/19/2017  (40.597715078535202, -74.083828345887497)  \n",
       "634            02/19/2017  (40.598001994381299, -74.083050385855003)  \n",
       "635            02/19/2017  (40.581309259206897, -74.112015365225602)  \n",
       "636            02/19/2017  (40.564788999999998, -74.115318000000002)  "
      ]
     },
     "execution_count": 3,
     "metadata": {},
     "output_type": "execute_result"
    }
   ],
   "source": [
    "LinkNYC_kiosks_location.tail()"
   ]
  },
  {
   "cell_type": "code",
   "execution_count": 4,
   "metadata": {
    "collapsed": false
   },
   "outputs": [
    {
     "name": "stdout",
     "output_type": "stream",
     "text": [
      "Bronx 41\n",
      "Brooklyn 31\n",
      "Staten Island 20\n",
      "Manhattan 503\n",
      "Queens 42\n"
     ]
    }
   ],
   "source": [
    "boros = set(LinkNYC_kiosks_location[\"Boro\"])\n",
    "for boro in boros:\n",
    "    print boro, sum(LinkNYC_kiosks_location['Boro'] == boro)"
   ]
  },
  {
   "cell_type": "code",
   "execution_count": 5,
   "metadata": {
    "collapsed": false,
    "scrolled": false
   },
   "outputs": [
    {
     "data": {
      "text/html": [
       "<div>\n",
       "<table border=\"1\" class=\"dataframe\">\n",
       "  <thead>\n",
       "    <tr style=\"text-align: right;\">\n",
       "      <th></th>\n",
       "      <th>Division</th>\n",
       "      <th>Line</th>\n",
       "      <th>Station Name</th>\n",
       "      <th>Station Latitude</th>\n",
       "      <th>Station Longitude</th>\n",
       "      <th>Route1</th>\n",
       "      <th>Route2</th>\n",
       "      <th>Route3</th>\n",
       "      <th>Route4</th>\n",
       "      <th>Route5</th>\n",
       "      <th>...</th>\n",
       "      <th>ADA</th>\n",
       "      <th>ADA Notes</th>\n",
       "      <th>Free Crossover</th>\n",
       "      <th>North South Street</th>\n",
       "      <th>East West Street</th>\n",
       "      <th>Corner</th>\n",
       "      <th>Entrance Latitude</th>\n",
       "      <th>Entrance Longitude</th>\n",
       "      <th>Station Location</th>\n",
       "      <th>Entrance Location</th>\n",
       "    </tr>\n",
       "  </thead>\n",
       "  <tbody>\n",
       "    <tr>\n",
       "      <th>1863</th>\n",
       "      <td>IRT</td>\n",
       "      <td>White Plains Road</td>\n",
       "      <td>Wakefield-241st St</td>\n",
       "      <td>40.903125</td>\n",
       "      <td>-73.85062</td>\n",
       "      <td>2</td>\n",
       "      <td>5</td>\n",
       "      <td>NaN</td>\n",
       "      <td>NaN</td>\n",
       "      <td>NaN</td>\n",
       "      <td>...</td>\n",
       "      <td>False</td>\n",
       "      <td>NaN</td>\n",
       "      <td>True</td>\n",
       "      <td>White Plains Rd</td>\n",
       "      <td>241st St</td>\n",
       "      <td>NW</td>\n",
       "      <td>40.903597</td>\n",
       "      <td>-73.850360</td>\n",
       "      <td>(40.903125, -73.85062)</td>\n",
       "      <td>(40.903597, -73.850360)</td>\n",
       "    </tr>\n",
       "    <tr>\n",
       "      <th>1864</th>\n",
       "      <td>IRT</td>\n",
       "      <td>White Plains Road</td>\n",
       "      <td>Wakefield-241st St</td>\n",
       "      <td>40.903125</td>\n",
       "      <td>-73.85062</td>\n",
       "      <td>2</td>\n",
       "      <td>5</td>\n",
       "      <td>NaN</td>\n",
       "      <td>NaN</td>\n",
       "      <td>NaN</td>\n",
       "      <td>...</td>\n",
       "      <td>False</td>\n",
       "      <td>NaN</td>\n",
       "      <td>True</td>\n",
       "      <td>White Plains Rd</td>\n",
       "      <td>241st St</td>\n",
       "      <td>SE</td>\n",
       "      <td>40.903283</td>\n",
       "      <td>-73.850321</td>\n",
       "      <td>(40.903125, -73.85062)</td>\n",
       "      <td>(40.903283, -73.850321)</td>\n",
       "    </tr>\n",
       "    <tr>\n",
       "      <th>1865</th>\n",
       "      <td>IRT</td>\n",
       "      <td>White Plains Road</td>\n",
       "      <td>Wakefield-241st St</td>\n",
       "      <td>40.903125</td>\n",
       "      <td>-73.85062</td>\n",
       "      <td>2</td>\n",
       "      <td>5</td>\n",
       "      <td>NaN</td>\n",
       "      <td>NaN</td>\n",
       "      <td>NaN</td>\n",
       "      <td>...</td>\n",
       "      <td>False</td>\n",
       "      <td>NaN</td>\n",
       "      <td>True</td>\n",
       "      <td>White Plains Rd</td>\n",
       "      <td>241st St</td>\n",
       "      <td>NE</td>\n",
       "      <td>40.903509</td>\n",
       "      <td>-73.850124</td>\n",
       "      <td>(40.903125, -73.85062)</td>\n",
       "      <td>(40.903509, -73.850124)</td>\n",
       "    </tr>\n",
       "    <tr>\n",
       "      <th>1866</th>\n",
       "      <td>IRT</td>\n",
       "      <td>Flushing</td>\n",
       "      <td>34 St Hudson Yards</td>\n",
       "      <td>40.755882</td>\n",
       "      <td>-74.00191</td>\n",
       "      <td>7</td>\n",
       "      <td>NaN</td>\n",
       "      <td>NaN</td>\n",
       "      <td>NaN</td>\n",
       "      <td>NaN</td>\n",
       "      <td>...</td>\n",
       "      <td>True</td>\n",
       "      <td>NaN</td>\n",
       "      <td>True</td>\n",
       "      <td>34th St</td>\n",
       "      <td>Hudson Boulevard (East)</td>\n",
       "      <td>SW</td>\n",
       "      <td>40.754904</td>\n",
       "      <td>-74.001323</td>\n",
       "      <td>(40.755882, -74.00191)</td>\n",
       "      <td>(40.754904, -74.001323)</td>\n",
       "    </tr>\n",
       "    <tr>\n",
       "      <th>1867</th>\n",
       "      <td>IRT</td>\n",
       "      <td>Flushing</td>\n",
       "      <td>34 St Hudson Yards</td>\n",
       "      <td>40.755882</td>\n",
       "      <td>-74.00191</td>\n",
       "      <td>7</td>\n",
       "      <td>NaN</td>\n",
       "      <td>NaN</td>\n",
       "      <td>NaN</td>\n",
       "      <td>NaN</td>\n",
       "      <td>...</td>\n",
       "      <td>True</td>\n",
       "      <td>NaN</td>\n",
       "      <td>True</td>\n",
       "      <td>34th St</td>\n",
       "      <td>Hudson Boulevard (East)</td>\n",
       "      <td>SW</td>\n",
       "      <td>40.754937</td>\n",
       "      <td>-74.000961</td>\n",
       "      <td>(40.755882, -74.00191)</td>\n",
       "      <td>(40.754937, -74.000961)</td>\n",
       "    </tr>\n",
       "  </tbody>\n",
       "</table>\n",
       "<p>5 rows × 32 columns</p>\n",
       "</div>"
      ],
      "text/plain": [
       "     Division               Line        Station Name  Station Latitude  \\\n",
       "1863      IRT  White Plains Road  Wakefield-241st St         40.903125   \n",
       "1864      IRT  White Plains Road  Wakefield-241st St         40.903125   \n",
       "1865      IRT  White Plains Road  Wakefield-241st St         40.903125   \n",
       "1866      IRT           Flushing  34 St Hudson Yards         40.755882   \n",
       "1867      IRT           Flushing  34 St Hudson Yards         40.755882   \n",
       "\n",
       "      Station Longitude Route1 Route2 Route3 Route4 Route5  \\\n",
       "1863          -73.85062      2      5    NaN    NaN    NaN   \n",
       "1864          -73.85062      2      5    NaN    NaN    NaN   \n",
       "1865          -73.85062      2      5    NaN    NaN    NaN   \n",
       "1866          -74.00191      7    NaN    NaN    NaN    NaN   \n",
       "1867          -74.00191      7    NaN    NaN    NaN    NaN   \n",
       "\n",
       "               ...               ADA ADA Notes  Free Crossover  \\\n",
       "1863           ...             False       NaN            True   \n",
       "1864           ...             False       NaN            True   \n",
       "1865           ...             False       NaN            True   \n",
       "1866           ...              True       NaN            True   \n",
       "1867           ...              True       NaN            True   \n",
       "\n",
       "      North South Street         East West Street  Corner Entrance Latitude  \\\n",
       "1863     White Plains Rd                 241st St      NW         40.903597   \n",
       "1864     White Plains Rd                 241st St      SE         40.903283   \n",
       "1865     White Plains Rd                 241st St      NE         40.903509   \n",
       "1866             34th St  Hudson Boulevard (East)      SW         40.754904   \n",
       "1867             34th St  Hudson Boulevard (East)      SW         40.754937   \n",
       "\n",
       "     Entrance Longitude        Station Location        Entrance Location  \n",
       "1863         -73.850360  (40.903125, -73.85062)  (40.903597, -73.850360)  \n",
       "1864         -73.850321  (40.903125, -73.85062)  (40.903283, -73.850321)  \n",
       "1865         -73.850124  (40.903125, -73.85062)  (40.903509, -73.850124)  \n",
       "1866         -74.001323  (40.755882, -74.00191)  (40.754904, -74.001323)  \n",
       "1867         -74.000961  (40.755882, -74.00191)  (40.754937, -74.000961)  \n",
       "\n",
       "[5 rows x 32 columns]"
      ]
     },
     "execution_count": 5,
     "metadata": {},
     "output_type": "execute_result"
    }
   ],
   "source": [
    "subway_entrance_location.tail()"
   ]
  },
  {
   "cell_type": "code",
   "execution_count": 6,
   "metadata": {
    "collapsed": false,
    "scrolled": true
   },
   "outputs": [
    {
     "name": "stdout",
     "output_type": "stream",
     "text": [
      "356 stations, 5.24719101124 entrances per station\n"
     ]
    }
   ],
   "source": [
    "nun_stations = len(set(subway_entrance_location['Station Name']))\n",
    "print nun_stations,\"stations,\", len(subway_entrance_location)/float(nun_stations),'entrances per station'"
   ]
  },
  {
   "cell_type": "markdown",
   "metadata": {},
   "source": [
    "# Part 1. Geographical Analysis\n",
    "## Plotting kioks with plotly"
   ]
  },
  {
   "cell_type": "code",
   "execution_count": 7,
   "metadata": {
    "collapsed": false,
    "scrolled": false
   },
   "outputs": [
    {
     "data": {
      "text/html": [
       "<iframe id=\"igraph\" scrolling=\"no\" style=\"border:none;\" seamless=\"seamless\" src=\"https://plot.ly/~wonkim0512/3.embed\" height=\"1000px\" width=\"1000px\"></iframe>"
      ],
      "text/plain": [
       "<plotly.tools.PlotlyDisplay object>"
      ]
     },
     "execution_count": 7,
     "metadata": {},
     "output_type": "execute_result"
    }
   ],
   "source": [
    "import plotly.plotly as py\n",
    "from plotly.graph_objs import *\n",
    "\n",
    "mapbox_access_token = 'pk.eyJ1IjoiY2hlbHNlYXBsb3RseSIsImEiOiJjaXFqeXVzdDkwMHFrZnRtOGtlMGtwcGs4In0.SLidkdBMEap9POJGIe1eGw'\n",
    "\n",
    "kiosk_latitude_list = LinkNYC_kiosks_location.Latitude.tolist() # series to list\n",
    "kiosk_longitude_list = LinkNYC_kiosks_location.Longitude.tolist() # series to list\n",
    "kiosk_street_address = LinkNYC_kiosks_location.ix[:, 7].tolist() # series to list\n",
    "\n",
    "subway_entrance_latitude_list = subway_entrance_location.ix[:, 3].tolist()\n",
    "subway_entrance_longitude_list = subway_entrance_location.ix[:, 4].tolist()\n",
    "subway_entrance_name_list = subway_entrance_location.ix[:, 2].tolist()\n",
    "\n",
    "\n",
    "data = Data([\n",
    "    Scattermapbox(\n",
    "        lat=kiosk_latitude_list, # plotting.\n",
    "        lon=kiosk_longitude_list,\n",
    "        mode='markers',\n",
    "        marker=Marker(\n",
    "            size=6\n",
    "        ),\n",
    "        text= kiosk_street_address, # add street name to every marker\n",
    "        name = \"NYCLink\"\n",
    "    ),\n",
    "    Scattermapbox(\n",
    "        lat=subway_entrance_latitude_list, # plotting.\n",
    "        lon=subway_entrance_longitude_list,\n",
    "        mode='markers',\n",
    "        marker=Marker(\n",
    "            size=4\n",
    "        ),\n",
    "        text= subway_entrance_name_list, # add street name to every marker\n",
    "        name = \"Subway Station\"\n",
    "    )\n",
    "])\n",
    "layout = Layout(\n",
    "    title='LinkNYC Kiosk & Subway Station',\n",
    "    autosize=False, # False: could adjust the graph size manually\n",
    "    width=1000,\n",
    "    height=1000,\n",
    "    hovermode='closest',\n",
    "    mapbox=dict(\n",
    "        accesstoken=mapbox_access_token,\n",
    "        bearing=0,\n",
    "        center=dict(\n",
    "            lat= 40.730534,\n",
    "            lon= -73.907244 # where I want to make the center of my map\n",
    "        ),\n",
    "        pitch=0,\n",
    "        zoom=10\n",
    "    ),\n",
    ")\n",
    "\n",
    "fig = dict(data=data, layout=layout)\n",
    "py.iplot(fig, filename='Multiple Mapbox', validate=False)"
   ]
  },
  {
   "cell_type": "markdown",
   "metadata": {},
   "source": [
    "### Let's compare with the map which LinkNYC uploaded on its website."
   ]
  },
  {
   "cell_type": "markdown",
   "metadata": {},
   "source": [
    "<img src=\"LinkNYC_kiosks_map.png\",width=700,height=700>"
   ]
  },
  {
   "cell_type": "markdown",
   "metadata": {},
   "source": [
    "### Are you sure, LinkNYC? It does not look you have that many kiosks now."
   ]
  },
  {
   "cell_type": "markdown",
   "metadata": {},
   "source": [
    "## Pedestrian stats"
   ]
  },
  {
   "cell_type": "code",
   "execution_count": 8,
   "metadata": {
    "collapsed": false
   },
   "outputs": [],
   "source": [
    "#import pandas as pd\n",
    "pedestrian = pd.read_csv('~/dss4/LinkNYC/population_related_csv/PedCountLocationsMay2015.csv')"
   ]
  },
  {
   "cell_type": "code",
   "execution_count": 9,
   "metadata": {
    "collapsed": false
   },
   "outputs": [
    {
     "data": {
      "text/html": [
       "<div>\n",
       "<table border=\"1\" class=\"dataframe\">\n",
       "  <thead>\n",
       "    <tr style=\"text-align: right;\">\n",
       "      <th></th>\n",
       "      <th>location</th>\n",
       "      <th>Loc</th>\n",
       "      <th>Borough</th>\n",
       "      <th>Street</th>\n",
       "      <th>From_</th>\n",
       "      <th>To</th>\n",
       "      <th>Index</th>\n",
       "      <th>May07_D</th>\n",
       "      <th>May07_AM</th>\n",
       "      <th>May07_PM</th>\n",
       "      <th>...</th>\n",
       "      <th>Sept14_D</th>\n",
       "      <th>Sept14_AM</th>\n",
       "      <th>Sept14_PM</th>\n",
       "      <th>Sept14_D2</th>\n",
       "      <th>Sept14_MD</th>\n",
       "      <th>May15_D</th>\n",
       "      <th>May15_AM</th>\n",
       "      <th>May15_PM</th>\n",
       "      <th>May15_D2</th>\n",
       "      <th>May15_MD</th>\n",
       "    </tr>\n",
       "  </thead>\n",
       "  <tbody>\n",
       "    <tr>\n",
       "      <th>109</th>\n",
       "      <td>POINT (-73.93313302788228 40.81413106797777)</td>\n",
       "      <td>110</td>\n",
       "      <td>Harlem River Bridges</td>\n",
       "      <td>Madison Avenue Bridge</td>\n",
       "      <td>midpoint</td>\n",
       "      <td>NaN</td>\n",
       "      <td>N</td>\n",
       "      <td>5/8/2007</td>\n",
       "      <td>145</td>\n",
       "      <td>305</td>\n",
       "      <td>...</td>\n",
       "      <td>09/18/14</td>\n",
       "      <td>348</td>\n",
       "      <td>458</td>\n",
       "      <td>09/13/14</td>\n",
       "      <td>182</td>\n",
       "      <td>2005-06-15</td>\n",
       "      <td>356</td>\n",
       "      <td>542</td>\n",
       "      <td>05/16/15</td>\n",
       "      <td>193</td>\n",
       "    </tr>\n",
       "    <tr>\n",
       "      <th>110</th>\n",
       "      <td>POINT (-73.93252967704335 40.8075548101035)</td>\n",
       "      <td>111</td>\n",
       "      <td>Harlem River Bridges</td>\n",
       "      <td>Third Avenue Bridge</td>\n",
       "      <td>midpoint</td>\n",
       "      <td>NaN</td>\n",
       "      <td>N</td>\n",
       "      <td>5/8/2007</td>\n",
       "      <td>49</td>\n",
       "      <td>126</td>\n",
       "      <td>...</td>\n",
       "      <td>2010-02-14</td>\n",
       "      <td>196</td>\n",
       "      <td>360</td>\n",
       "      <td>09/20/14</td>\n",
       "      <td>188</td>\n",
       "      <td>05/21/15</td>\n",
       "      <td>217</td>\n",
       "      <td>364</td>\n",
       "      <td>05/16/15</td>\n",
       "      <td>210</td>\n",
       "    </tr>\n",
       "    <tr>\n",
       "      <th>111</th>\n",
       "      <td>POINT (-73.9289610791785 40.803769279822085)</td>\n",
       "      <td>112</td>\n",
       "      <td>Harlem River Bridges</td>\n",
       "      <td>Willis Avenue Bridge</td>\n",
       "      <td>midpoint</td>\n",
       "      <td>NaN</td>\n",
       "      <td>N</td>\n",
       "      <td>5/10/2007</td>\n",
       "      <td>57</td>\n",
       "      <td>118</td>\n",
       "      <td>...</td>\n",
       "      <td>09/23/14</td>\n",
       "      <td>168</td>\n",
       "      <td>351</td>\n",
       "      <td>09/20/14</td>\n",
       "      <td>148</td>\n",
       "      <td>05/20/15</td>\n",
       "      <td>133</td>\n",
       "      <td>319</td>\n",
       "      <td>2005-09-15</td>\n",
       "      <td>122</td>\n",
       "    </tr>\n",
       "    <tr>\n",
       "      <th>112</th>\n",
       "      <td>POINT (-73.92785197149043 40.80034506063932)</td>\n",
       "      <td>113</td>\n",
       "      <td>Harlem River Bridges</td>\n",
       "      <td>Triborough Bridge (Manhattan span)</td>\n",
       "      <td>midpoint</td>\n",
       "      <td>NaN</td>\n",
       "      <td>N</td>\n",
       "      <td>5/10/2007</td>\n",
       "      <td>17</td>\n",
       "      <td>35</td>\n",
       "      <td>...</td>\n",
       "      <td>09/23/14</td>\n",
       "      <td>21</td>\n",
       "      <td>42</td>\n",
       "      <td>09/20/14</td>\n",
       "      <td>20</td>\n",
       "      <td>05/20/15</td>\n",
       "      <td>19</td>\n",
       "      <td>36</td>\n",
       "      <td>2005-09-15</td>\n",
       "      <td>14</td>\n",
       "    </tr>\n",
       "    <tr>\n",
       "      <th>113</th>\n",
       "      <td>POINT (-73.93686603590562 40.78611224350855)</td>\n",
       "      <td>114</td>\n",
       "      <td>Harlem River Bridges</td>\n",
       "      <td>Wards Island Bridge</td>\n",
       "      <td>midpoint</td>\n",
       "      <td>NaN</td>\n",
       "      <td>N</td>\n",
       "      <td>5/10/2007</td>\n",
       "      <td>57</td>\n",
       "      <td>207</td>\n",
       "      <td>...</td>\n",
       "      <td>09/23/14</td>\n",
       "      <td>123</td>\n",
       "      <td>458</td>\n",
       "      <td>09/20/14</td>\n",
       "      <td>564</td>\n",
       "      <td>05/20/15</td>\n",
       "      <td>189</td>\n",
       "      <td>539</td>\n",
       "      <td>2005-09-15</td>\n",
       "      <td>312</td>\n",
       "    </tr>\n",
       "  </tbody>\n",
       "</table>\n",
       "<p>5 rows × 92 columns</p>\n",
       "</div>"
      ],
      "text/plain": [
       "                                         location  Loc               Borough  \\\n",
       "109  POINT (-73.93313302788228 40.81413106797777)  110  Harlem River Bridges   \n",
       "110   POINT (-73.93252967704335 40.8075548101035)  111  Harlem River Bridges   \n",
       "111  POINT (-73.9289610791785 40.803769279822085)  112  Harlem River Bridges   \n",
       "112  POINT (-73.92785197149043 40.80034506063932)  113  Harlem River Bridges   \n",
       "113  POINT (-73.93686603590562 40.78611224350855)  114  Harlem River Bridges   \n",
       "\n",
       "                                 Street     From_   To Index    May07_D  \\\n",
       "109               Madison Avenue Bridge  midpoint  NaN     N   5/8/2007   \n",
       "110                 Third Avenue Bridge  midpoint  NaN     N   5/8/2007   \n",
       "111                Willis Avenue Bridge  midpoint  NaN     N  5/10/2007   \n",
       "112  Triborough Bridge (Manhattan span)  midpoint  NaN     N  5/10/2007   \n",
       "113                 Wards Island Bridge  midpoint  NaN     N  5/10/2007   \n",
       "\n",
       "     May07_AM  May07_PM    ...       Sept14_D  Sept14_AM Sept14_PM  Sept14_D2  \\\n",
       "109       145       305    ...       09/18/14        348       458   09/13/14   \n",
       "110        49       126    ...     2010-02-14        196       360   09/20/14   \n",
       "111        57       118    ...       09/23/14        168       351   09/20/14   \n",
       "112        17        35    ...       09/23/14         21        42   09/20/14   \n",
       "113        57       207    ...       09/23/14        123       458   09/20/14   \n",
       "\n",
       "     Sept14_MD     May15_D  May15_AM May15_PM    May15_D2  May15_MD  \n",
       "109        182  2005-06-15       356      542    05/16/15       193  \n",
       "110        188    05/21/15       217      364    05/16/15       210  \n",
       "111        148    05/20/15       133      319  2005-09-15       122  \n",
       "112         20    05/20/15        19       36  2005-09-15        14  \n",
       "113        564    05/20/15       189      539  2005-09-15       312  \n",
       "\n",
       "[5 rows x 92 columns]"
      ]
     },
     "execution_count": 9,
     "metadata": {},
     "output_type": "execute_result"
    }
   ],
   "source": [
    "pedestrian = pedestrian.rename(columns = {'the_geom':'location'})\n",
    "pedestrian.tail()"
   ]
  },
  {
   "cell_type": "code",
   "execution_count": 10,
   "metadata": {
    "collapsed": false,
    "scrolled": false
   },
   "outputs": [],
   "source": [
    "ped_latitude = []\n",
    "ped_longitude = []\n",
    "for i in range(len(pedestrian.ix[:, 0].tolist())):\n",
    "    ped_latitude.append(float(pedestrian.ix[:, 0].tolist()[i][7:-1].split(\" \")[1]))\n",
    "    ped_longitude.append(float(pedestrian.ix[:, 0].tolist()[i][7:-1].split(\" \")[0]))\n",
    "\n",
    "pedestrian.insert(0, \"Latitude\", ped_latitude)\n",
    "pedestrian.insert(1, \"Longitude\", ped_longitude)"
   ]
  },
  {
   "cell_type": "code",
   "execution_count": 11,
   "metadata": {
    "collapsed": false,
    "scrolled": false
   },
   "outputs": [
    {
     "data": {
      "text/html": [
       "<div>\n",
       "<table border=\"1\" class=\"dataframe\">\n",
       "  <thead>\n",
       "    <tr style=\"text-align: right;\">\n",
       "      <th></th>\n",
       "      <th>Latitude</th>\n",
       "      <th>Longitude</th>\n",
       "      <th>location</th>\n",
       "      <th>Loc</th>\n",
       "      <th>Borough</th>\n",
       "      <th>Street</th>\n",
       "      <th>From_</th>\n",
       "      <th>To</th>\n",
       "      <th>Index</th>\n",
       "      <th>May07_D</th>\n",
       "      <th>...</th>\n",
       "      <th>Sept14_D</th>\n",
       "      <th>Sept14_AM</th>\n",
       "      <th>Sept14_PM</th>\n",
       "      <th>Sept14_D2</th>\n",
       "      <th>Sept14_MD</th>\n",
       "      <th>May15_D</th>\n",
       "      <th>May15_AM</th>\n",
       "      <th>May15_PM</th>\n",
       "      <th>May15_D2</th>\n",
       "      <th>May15_MD</th>\n",
       "    </tr>\n",
       "  </thead>\n",
       "  <tbody>\n",
       "    <tr>\n",
       "      <th>109</th>\n",
       "      <td>40.814131</td>\n",
       "      <td>-73.933133</td>\n",
       "      <td>POINT (-73.93313302788228 40.81413106797777)</td>\n",
       "      <td>110</td>\n",
       "      <td>Harlem River Bridges</td>\n",
       "      <td>Madison Avenue Bridge</td>\n",
       "      <td>midpoint</td>\n",
       "      <td>NaN</td>\n",
       "      <td>N</td>\n",
       "      <td>5/8/2007</td>\n",
       "      <td>...</td>\n",
       "      <td>09/18/14</td>\n",
       "      <td>348</td>\n",
       "      <td>458</td>\n",
       "      <td>09/13/14</td>\n",
       "      <td>182</td>\n",
       "      <td>2005-06-15</td>\n",
       "      <td>356</td>\n",
       "      <td>542</td>\n",
       "      <td>05/16/15</td>\n",
       "      <td>193</td>\n",
       "    </tr>\n",
       "    <tr>\n",
       "      <th>110</th>\n",
       "      <td>40.807555</td>\n",
       "      <td>-73.932530</td>\n",
       "      <td>POINT (-73.93252967704335 40.8075548101035)</td>\n",
       "      <td>111</td>\n",
       "      <td>Harlem River Bridges</td>\n",
       "      <td>Third Avenue Bridge</td>\n",
       "      <td>midpoint</td>\n",
       "      <td>NaN</td>\n",
       "      <td>N</td>\n",
       "      <td>5/8/2007</td>\n",
       "      <td>...</td>\n",
       "      <td>2010-02-14</td>\n",
       "      <td>196</td>\n",
       "      <td>360</td>\n",
       "      <td>09/20/14</td>\n",
       "      <td>188</td>\n",
       "      <td>05/21/15</td>\n",
       "      <td>217</td>\n",
       "      <td>364</td>\n",
       "      <td>05/16/15</td>\n",
       "      <td>210</td>\n",
       "    </tr>\n",
       "    <tr>\n",
       "      <th>111</th>\n",
       "      <td>40.803769</td>\n",
       "      <td>-73.928961</td>\n",
       "      <td>POINT (-73.9289610791785 40.803769279822085)</td>\n",
       "      <td>112</td>\n",
       "      <td>Harlem River Bridges</td>\n",
       "      <td>Willis Avenue Bridge</td>\n",
       "      <td>midpoint</td>\n",
       "      <td>NaN</td>\n",
       "      <td>N</td>\n",
       "      <td>5/10/2007</td>\n",
       "      <td>...</td>\n",
       "      <td>09/23/14</td>\n",
       "      <td>168</td>\n",
       "      <td>351</td>\n",
       "      <td>09/20/14</td>\n",
       "      <td>148</td>\n",
       "      <td>05/20/15</td>\n",
       "      <td>133</td>\n",
       "      <td>319</td>\n",
       "      <td>2005-09-15</td>\n",
       "      <td>122</td>\n",
       "    </tr>\n",
       "    <tr>\n",
       "      <th>112</th>\n",
       "      <td>40.800345</td>\n",
       "      <td>-73.927852</td>\n",
       "      <td>POINT (-73.92785197149043 40.80034506063932)</td>\n",
       "      <td>113</td>\n",
       "      <td>Harlem River Bridges</td>\n",
       "      <td>Triborough Bridge (Manhattan span)</td>\n",
       "      <td>midpoint</td>\n",
       "      <td>NaN</td>\n",
       "      <td>N</td>\n",
       "      <td>5/10/2007</td>\n",
       "      <td>...</td>\n",
       "      <td>09/23/14</td>\n",
       "      <td>21</td>\n",
       "      <td>42</td>\n",
       "      <td>09/20/14</td>\n",
       "      <td>20</td>\n",
       "      <td>05/20/15</td>\n",
       "      <td>19</td>\n",
       "      <td>36</td>\n",
       "      <td>2005-09-15</td>\n",
       "      <td>14</td>\n",
       "    </tr>\n",
       "    <tr>\n",
       "      <th>113</th>\n",
       "      <td>40.786112</td>\n",
       "      <td>-73.936866</td>\n",
       "      <td>POINT (-73.93686603590562 40.78611224350855)</td>\n",
       "      <td>114</td>\n",
       "      <td>Harlem River Bridges</td>\n",
       "      <td>Wards Island Bridge</td>\n",
       "      <td>midpoint</td>\n",
       "      <td>NaN</td>\n",
       "      <td>N</td>\n",
       "      <td>5/10/2007</td>\n",
       "      <td>...</td>\n",
       "      <td>09/23/14</td>\n",
       "      <td>123</td>\n",
       "      <td>458</td>\n",
       "      <td>09/20/14</td>\n",
       "      <td>564</td>\n",
       "      <td>05/20/15</td>\n",
       "      <td>189</td>\n",
       "      <td>539</td>\n",
       "      <td>2005-09-15</td>\n",
       "      <td>312</td>\n",
       "    </tr>\n",
       "  </tbody>\n",
       "</table>\n",
       "<p>5 rows × 94 columns</p>\n",
       "</div>"
      ],
      "text/plain": [
       "      Latitude  Longitude                                      location  Loc  \\\n",
       "109  40.814131 -73.933133  POINT (-73.93313302788228 40.81413106797777)  110   \n",
       "110  40.807555 -73.932530   POINT (-73.93252967704335 40.8075548101035)  111   \n",
       "111  40.803769 -73.928961  POINT (-73.9289610791785 40.803769279822085)  112   \n",
       "112  40.800345 -73.927852  POINT (-73.92785197149043 40.80034506063932)  113   \n",
       "113  40.786112 -73.936866  POINT (-73.93686603590562 40.78611224350855)  114   \n",
       "\n",
       "                  Borough                              Street     From_   To  \\\n",
       "109  Harlem River Bridges               Madison Avenue Bridge  midpoint  NaN   \n",
       "110  Harlem River Bridges                 Third Avenue Bridge  midpoint  NaN   \n",
       "111  Harlem River Bridges                Willis Avenue Bridge  midpoint  NaN   \n",
       "112  Harlem River Bridges  Triborough Bridge (Manhattan span)  midpoint  NaN   \n",
       "113  Harlem River Bridges                 Wards Island Bridge  midpoint  NaN   \n",
       "\n",
       "    Index    May07_D   ...       Sept14_D  Sept14_AM Sept14_PM  Sept14_D2  \\\n",
       "109     N   5/8/2007   ...       09/18/14        348       458   09/13/14   \n",
       "110     N   5/8/2007   ...     2010-02-14        196       360   09/20/14   \n",
       "111     N  5/10/2007   ...       09/23/14        168       351   09/20/14   \n",
       "112     N  5/10/2007   ...       09/23/14         21        42   09/20/14   \n",
       "113     N  5/10/2007   ...       09/23/14        123       458   09/20/14   \n",
       "\n",
       "    Sept14_MD     May15_D  May15_AM May15_PM    May15_D2 May15_MD  \n",
       "109       182  2005-06-15       356      542    05/16/15      193  \n",
       "110       188    05/21/15       217      364    05/16/15      210  \n",
       "111       148    05/20/15       133      319  2005-09-15      122  \n",
       "112        20    05/20/15        19       36  2005-09-15       14  \n",
       "113       564    05/20/15       189      539  2005-09-15      312  \n",
       "\n",
       "[5 rows x 94 columns]"
      ]
     },
     "execution_count": 11,
     "metadata": {},
     "output_type": "execute_result"
    }
   ],
   "source": [
    "pedestrian.tail()"
   ]
  },
  {
   "cell_type": "code",
   "execution_count": 12,
   "metadata": {
    "collapsed": false,
    "scrolled": false
   },
   "outputs": [],
   "source": [
    "drop = ['location', 'Loc', 'Index']\n",
    "for col in drop:\n",
    "    pedestrian = pedestrian.drop(col, 1) # delete the columns which is not needed.\n",
    "    "
   ]
  },
  {
   "cell_type": "code",
   "execution_count": 13,
   "metadata": {
    "collapsed": false,
    "scrolled": false
   },
   "outputs": [
    {
     "data": {
      "text/html": [
       "<div>\n",
       "<table border=\"1\" class=\"dataframe\">\n",
       "  <thead>\n",
       "    <tr style=\"text-align: right;\">\n",
       "      <th></th>\n",
       "      <th>Latitude</th>\n",
       "      <th>Longitude</th>\n",
       "      <th>Borough</th>\n",
       "      <th>Street</th>\n",
       "      <th>From_</th>\n",
       "      <th>To</th>\n",
       "      <th>May07_D</th>\n",
       "      <th>May07_AM</th>\n",
       "      <th>May07_PM</th>\n",
       "      <th>May07_D2</th>\n",
       "      <th>...</th>\n",
       "      <th>Sept14_D</th>\n",
       "      <th>Sept14_AM</th>\n",
       "      <th>Sept14_PM</th>\n",
       "      <th>Sept14_D2</th>\n",
       "      <th>Sept14_MD</th>\n",
       "      <th>May15_D</th>\n",
       "      <th>May15_AM</th>\n",
       "      <th>May15_PM</th>\n",
       "      <th>May15_D2</th>\n",
       "      <th>May15_MD</th>\n",
       "    </tr>\n",
       "  </thead>\n",
       "  <tbody>\n",
       "    <tr>\n",
       "      <th>109</th>\n",
       "      <td>40.814131</td>\n",
       "      <td>-73.933133</td>\n",
       "      <td>Harlem River Bridges</td>\n",
       "      <td>Madison Avenue Bridge</td>\n",
       "      <td>midpoint</td>\n",
       "      <td>NaN</td>\n",
       "      <td>5/8/2007</td>\n",
       "      <td>145</td>\n",
       "      <td>305</td>\n",
       "      <td>5/5/2007</td>\n",
       "      <td>...</td>\n",
       "      <td>09/18/14</td>\n",
       "      <td>348</td>\n",
       "      <td>458</td>\n",
       "      <td>09/13/14</td>\n",
       "      <td>182</td>\n",
       "      <td>2005-06-15</td>\n",
       "      <td>356</td>\n",
       "      <td>542</td>\n",
       "      <td>05/16/15</td>\n",
       "      <td>193</td>\n",
       "    </tr>\n",
       "    <tr>\n",
       "      <th>110</th>\n",
       "      <td>40.807555</td>\n",
       "      <td>-73.932530</td>\n",
       "      <td>Harlem River Bridges</td>\n",
       "      <td>Third Avenue Bridge</td>\n",
       "      <td>midpoint</td>\n",
       "      <td>NaN</td>\n",
       "      <td>5/8/2007</td>\n",
       "      <td>49</td>\n",
       "      <td>126</td>\n",
       "      <td>5/5/2007</td>\n",
       "      <td>...</td>\n",
       "      <td>2010-02-14</td>\n",
       "      <td>196</td>\n",
       "      <td>360</td>\n",
       "      <td>09/20/14</td>\n",
       "      <td>188</td>\n",
       "      <td>05/21/15</td>\n",
       "      <td>217</td>\n",
       "      <td>364</td>\n",
       "      <td>05/16/15</td>\n",
       "      <td>210</td>\n",
       "    </tr>\n",
       "    <tr>\n",
       "      <th>111</th>\n",
       "      <td>40.803769</td>\n",
       "      <td>-73.928961</td>\n",
       "      <td>Harlem River Bridges</td>\n",
       "      <td>Willis Avenue Bridge</td>\n",
       "      <td>midpoint</td>\n",
       "      <td>NaN</td>\n",
       "      <td>5/10/2007</td>\n",
       "      <td>57</td>\n",
       "      <td>118</td>\n",
       "      <td>5/5/2007</td>\n",
       "      <td>...</td>\n",
       "      <td>09/23/14</td>\n",
       "      <td>168</td>\n",
       "      <td>351</td>\n",
       "      <td>09/20/14</td>\n",
       "      <td>148</td>\n",
       "      <td>05/20/15</td>\n",
       "      <td>133</td>\n",
       "      <td>319</td>\n",
       "      <td>2005-09-15</td>\n",
       "      <td>122</td>\n",
       "    </tr>\n",
       "    <tr>\n",
       "      <th>112</th>\n",
       "      <td>40.800345</td>\n",
       "      <td>-73.927852</td>\n",
       "      <td>Harlem River Bridges</td>\n",
       "      <td>Triborough Bridge (Manhattan span)</td>\n",
       "      <td>midpoint</td>\n",
       "      <td>NaN</td>\n",
       "      <td>5/10/2007</td>\n",
       "      <td>17</td>\n",
       "      <td>35</td>\n",
       "      <td>5/5/2007</td>\n",
       "      <td>...</td>\n",
       "      <td>09/23/14</td>\n",
       "      <td>21</td>\n",
       "      <td>42</td>\n",
       "      <td>09/20/14</td>\n",
       "      <td>20</td>\n",
       "      <td>05/20/15</td>\n",
       "      <td>19</td>\n",
       "      <td>36</td>\n",
       "      <td>2005-09-15</td>\n",
       "      <td>14</td>\n",
       "    </tr>\n",
       "    <tr>\n",
       "      <th>113</th>\n",
       "      <td>40.786112</td>\n",
       "      <td>-73.936866</td>\n",
       "      <td>Harlem River Bridges</td>\n",
       "      <td>Wards Island Bridge</td>\n",
       "      <td>midpoint</td>\n",
       "      <td>NaN</td>\n",
       "      <td>5/10/2007</td>\n",
       "      <td>57</td>\n",
       "      <td>207</td>\n",
       "      <td>5/5/2007</td>\n",
       "      <td>...</td>\n",
       "      <td>09/23/14</td>\n",
       "      <td>123</td>\n",
       "      <td>458</td>\n",
       "      <td>09/20/14</td>\n",
       "      <td>564</td>\n",
       "      <td>05/20/15</td>\n",
       "      <td>189</td>\n",
       "      <td>539</td>\n",
       "      <td>2005-09-15</td>\n",
       "      <td>312</td>\n",
       "    </tr>\n",
       "  </tbody>\n",
       "</table>\n",
       "<p>5 rows × 91 columns</p>\n",
       "</div>"
      ],
      "text/plain": [
       "      Latitude  Longitude               Borough  \\\n",
       "109  40.814131 -73.933133  Harlem River Bridges   \n",
       "110  40.807555 -73.932530  Harlem River Bridges   \n",
       "111  40.803769 -73.928961  Harlem River Bridges   \n",
       "112  40.800345 -73.927852  Harlem River Bridges   \n",
       "113  40.786112 -73.936866  Harlem River Bridges   \n",
       "\n",
       "                                 Street     From_   To    May07_D  May07_AM  \\\n",
       "109               Madison Avenue Bridge  midpoint  NaN   5/8/2007       145   \n",
       "110                 Third Avenue Bridge  midpoint  NaN   5/8/2007        49   \n",
       "111                Willis Avenue Bridge  midpoint  NaN  5/10/2007        57   \n",
       "112  Triborough Bridge (Manhattan span)  midpoint  NaN  5/10/2007        17   \n",
       "113                 Wards Island Bridge  midpoint  NaN  5/10/2007        57   \n",
       "\n",
       "     May07_PM  May07_D2   ...       Sept14_D Sept14_AM  Sept14_PM  Sept14_D2  \\\n",
       "109       305  5/5/2007   ...       09/18/14       348        458   09/13/14   \n",
       "110       126  5/5/2007   ...     2010-02-14       196        360   09/20/14   \n",
       "111       118  5/5/2007   ...       09/23/14       168        351   09/20/14   \n",
       "112        35  5/5/2007   ...       09/23/14        21         42   09/20/14   \n",
       "113       207  5/5/2007   ...       09/23/14       123        458   09/20/14   \n",
       "\n",
       "    Sept14_MD     May15_D May15_AM  May15_PM    May15_D2 May15_MD  \n",
       "109       182  2005-06-15      356       542    05/16/15      193  \n",
       "110       188    05/21/15      217       364    05/16/15      210  \n",
       "111       148    05/20/15      133       319  2005-09-15      122  \n",
       "112        20    05/20/15       19        36  2005-09-15       14  \n",
       "113       564    05/20/15      189       539  2005-09-15      312  \n",
       "\n",
       "[5 rows x 91 columns]"
      ]
     },
     "execution_count": 13,
     "metadata": {},
     "output_type": "execute_result"
    }
   ],
   "source": [
    "pedestrian.tail()"
   ]
  },
  {
   "cell_type": "code",
   "execution_count": 14,
   "metadata": {
    "collapsed": false,
    "scrolled": false
   },
   "outputs": [
    {
     "data": {
      "text/html": [
       "<iframe id=\"igraph\" scrolling=\"no\" style=\"border:none;\" seamless=\"seamless\" src=\"https://plot.ly/~wonkim0512/3.embed\" height=\"1000px\" width=\"1000px\"></iframe>"
      ],
      "text/plain": [
       "<plotly.tools.PlotlyDisplay object>"
      ]
     },
     "execution_count": 14,
     "metadata": {},
     "output_type": "execute_result"
    }
   ],
   "source": [
    "import plotly.plotly as py\n",
    "from plotly.graph_objs import *\n",
    "\n",
    "mapbox_access_token = 'pk.eyJ1IjoiY2hlbHNlYXBsb3RseSIsImEiOiJjaXFqeXVzdDkwMHFrZnRtOGtlMGtwcGs4In0.SLidkdBMEap9POJGIe1eGw'\n",
    "\n",
    "ped_latitude_list = pedestrian.Latitude.tolist() # series to list\n",
    "ped_longitude_list = pedestrian.Longitude.tolist() # series to list\n",
    "ped_borough = pedestrian.ix[:, 2].tolist() # series to list\n",
    "\n",
    "data = Data([\n",
    "    Scattermapbox(\n",
    "        lat=ped_latitude_list, # plotting.\n",
    "        lon=ped_longitude_list,\n",
    "        mode='markers',\n",
    "        marker=Marker(color = 'black',\n",
    "            size= 0.005 * pedestrian['Sept14_AM'] # the size is proportional to the number of pedestrian\n",
    "        ),\n",
    "        text= ped_borough, # add street name to every marker\n",
    "        name = \"2014 September weekdays AM\"\n",
    "    ),\n",
    "    \n",
    "    Scattermapbox(\n",
    "        lat=ped_latitude_list, # plotting.\n",
    "        lon=ped_longitude_list,\n",
    "        mode='markers',\n",
    "        marker=Marker(color = 'red',\n",
    "            size= 0.005 * pedestrian['Sept14_PM'] # Had to multiply 2/3 to the number of pedestrian during PM .It is collected for 3 hours while the ohters are for 2hours\n",
    "        ),\n",
    "        text= ped_borough, # add street name to every marker\n",
    "        name = \"2014 September weekdays PM\"\n",
    "    ),\n",
    "    \n",
    "    Scattermapbox(\n",
    "        lat=ped_latitude_list, # plotting.\n",
    "        lon=ped_longitude_list,\n",
    "        mode='markers',\n",
    "        marker=Marker(color = 'pink',\n",
    "            size= 0.005 * pedestrian['Sept14_MD'] # the size is proportional to the number of pedestrian\n",
    "        ),\n",
    "        text= ped_borough, # add street name to every marker\n",
    "        name = \"2014 September weekends\"\n",
    "    )\n",
    "])\n",
    "layout = Layout(\n",
    "    title='The number of pedestrians, September 2014',\n",
    "    autosize=False,\n",
    "    width=1000,\n",
    "    height=1000,\n",
    "    hovermode='closest',\n",
    "    mapbox=dict(\n",
    "        accesstoken=mapbox_access_token,\n",
    "        bearing=0,\n",
    "        center=dict(\n",
    "            lat= 40.730534,\n",
    "            lon= -73.907244 # where I want to make the center of my map\n",
    "        ),\n",
    "        pitch=0,\n",
    "        zoom=10\n",
    "    ),\n",
    ")\n",
    "\n",
    "fig = dict(data=data, layout=layout)\n",
    "py.iplot(fig, filename='Multiple Mapbox', validate=False)"
   ]
  },
  {
   "cell_type": "code",
   "execution_count": 15,
   "metadata": {
    "collapsed": false
   },
   "outputs": [
    {
     "data": {
      "text/html": [
       "<iframe id=\"igraph\" scrolling=\"no\" style=\"border:none;\" seamless=\"seamless\" src=\"https://plot.ly/~wonkim0512/3.embed\" height=\"1000px\" width=\"1000px\"></iframe>"
      ],
      "text/plain": [
       "<plotly.tools.PlotlyDisplay object>"
      ]
     },
     "execution_count": 15,
     "metadata": {},
     "output_type": "execute_result"
    }
   ],
   "source": [
    "data = Data([\n",
    "    Scattermapbox(\n",
    "        lat=ped_latitude_list, # plotting.\n",
    "        lon=ped_longitude_list,\n",
    "        mode='markers',\n",
    "        marker=Marker(color = 'black',\n",
    "            size= 0.005 * pedestrian['May15_AM'] # the size is proportional to the number of pedestrian\n",
    "        ),\n",
    "        text= ped_borough, # add street name to every marker\n",
    "        name = \"2015 May weekdays AM\"\n",
    "    ),\n",
    "    \n",
    "    Scattermapbox(\n",
    "        lat=ped_latitude_list, # plotting.\n",
    "        lon=ped_longitude_list,\n",
    "        mode='markers',\n",
    "        marker=Marker(color = 'red',\n",
    "            size= 0.005 * pedestrian['May15_PM'] # Had to multiply 2/3 to the number of pedestrian during PM .It is collected for 3 hours while the ohters are for 2hours\n",
    "        ),\n",
    "        text= ped_borough, # add street name to every marker\n",
    "        name = \"2015 May weekdays PM\"\n",
    "    ),\n",
    "    \n",
    "    Scattermapbox(\n",
    "        lat=ped_latitude_list, # plotting.\n",
    "        lon=ped_longitude_list,\n",
    "        mode='markers',\n",
    "        marker=Marker(color = 'pink',\n",
    "            size= 0.005 * pedestrian['May15_MD'] # the size is proportional to the number of pedestrian\n",
    "        ),\n",
    "        text= ped_borough, # add street name to every marker\n",
    "        name = \"2015 May weekends\"\n",
    "    )\n",
    "])\n",
    "layout = Layout(\n",
    "    title='The number of pedestrians, May 2015',\n",
    "    autosize=False,\n",
    "    width=1000,\n",
    "    height=1000,\n",
    "    hovermode='closest',\n",
    "    mapbox=dict(\n",
    "        accesstoken=mapbox_access_token,\n",
    "        bearing=0,\n",
    "        center=dict(\n",
    "            lat= 40.730534,\n",
    "            lon= -73.907244 # where I want to make the center of my map\n",
    "        ),\n",
    "        pitch=0,\n",
    "        zoom=10\n",
    "    ),\n",
    ")\n",
    "\n",
    "fig = dict(data=data, layout=layout)\n",
    "py.iplot(fig, filename='Multiple Mapbox', validate=False)"
   ]
  },
  {
   "cell_type": "markdown",
   "metadata": {
    "collapsed": true
   },
   "source": [
    "### Are these plottings above reasonable? *Yes, we can see almost same pattern for the last years*"
   ]
  },
  {
   "cell_type": "code",
   "execution_count": 16,
   "metadata": {
    "collapsed": false
   },
   "outputs": [
    {
     "data": {
      "image/png": "[encoded data removed]",
      "text/plain": [
       "<matplotlib.figure.Figure at 0x78fd3b0>"
      ]
     },
     "metadata": {},
     "output_type": "display_data"
    },
    {
     "data": {
      "image/png": "[encoded data removed]",
      "text/plain": [
       "<matplotlib.figure.Figure at 0x7a79fb0>"
      ]
     },
     "metadata": {},
     "output_type": "display_data"
    },
    {
     "data": {
      "image/png": "[encoded data removed]",
      "text/plain": [
       "<matplotlib.figure.Figure at 0x7ad9970>"
      ]
     },
     "metadata": {},
     "output_type": "display_data"
    },
    {
     "data": {
      "image/png": "[encoded data removed]",
      "text/plain": [
       "<matplotlib.figure.Figure at 0x7b47af0>"
      ]
     },
     "metadata": {},
     "output_type": "display_data"
    }
   ],
   "source": [
    "import matplotlib.pyplot as plt\n",
    "#ped_street = pedestrian.ix[:, 3].tolist() # series to list\n",
    "\n",
    "for i in range(1,5):\n",
    "    plt.figure(figsize = (12,10))  \n",
    "    plt.subplot(2,2,i) #int('22'+str(i)))\n",
    "    plt.scatter(x = range(len(pedestrian)), y = pedestrian[\"Sept1\"+str(i)+\"_AM\"], color = \"black\")\n",
    "    plt.xlabel(\"kiosk index\")\n",
    "    plt.ylabel(\"# of people\")\n",
    "    plt.ylim([0, 20000])\n",
    "    plt.title(\"September 201\"+str(i)+\"_AM\")\n",
    "    \n",
    "   \n",
    "plt.show()"
   ]
  },
  {
   "cell_type": "code",
   "execution_count": 17,
   "metadata": {
    "collapsed": false
   },
   "outputs": [
    {
     "data": {
      "image/png": "[encoded data removed]",
      "text/plain": [
       "<matplotlib.figure.Figure at 0x7c51c50>"
      ]
     },
     "metadata": {},
     "output_type": "display_data"
    },
    {
     "data": {
      "image/png": "[encoded data removed]",
      "text/plain": [
       "<matplotlib.figure.Figure at 0x7ffcfb0>"
      ]
     },
     "metadata": {},
     "output_type": "display_data"
    },
    {
     "data": {
      "image/png": "[encoded data removed]",
      "text/plain": [
       "<matplotlib.figure.Figure at 0x8088ff0>"
      ]
     },
     "metadata": {},
     "output_type": "display_data"
    },
    {
     "data": {
      "image/png": "[encoded data removed]",
      "text/plain": [
       "<matplotlib.figure.Figure at 0x80cbf10>"
      ]
     },
     "metadata": {},
     "output_type": "display_data"
    }
   ],
   "source": [
    "for i in range(1,5):\n",
    "    plt.figure(figsize = (12,10))  \n",
    "    plt.subplot(2,2,i) #int('22'+str(i)))\n",
    "    plt.scatter(x = range(len(pedestrian)), y = pedestrian[\"Sept1\"+str(i)+\"_PM\"], color = \"red\")\n",
    "    plt.xlabel(\"kiosk index\")\n",
    "    plt.ylabel(\"# of people\")\n",
    "    plt.ylim([0, 20000])\n",
    "    plt.title(\"September 201\"+str(i)+\"_PM\")\n",
    "    \n",
    "   \n",
    "plt.show()"
   ]
  },
  {
   "cell_type": "code",
   "execution_count": 18,
   "metadata": {
    "collapsed": false,
    "scrolled": false
   },
   "outputs": [
    {
     "data": {
      "image/png": "[encoded data removed]",
      "text/plain": [
       "<matplotlib.figure.Figure at 0x7c2f330>"
      ]
     },
     "metadata": {},
     "output_type": "display_data"
    },
    {
     "data": {
      "image/png": "[encoded data removed]",
      "text/plain": [
       "<matplotlib.figure.Figure at 0x84af4f0>"
      ]
     },
     "metadata": {},
     "output_type": "display_data"
    },
    {
     "data": {
      "image/png": "[encoded data removed]",
      "text/plain": [
       "<matplotlib.figure.Figure at 0x8601610>"
      ]
     },
     "metadata": {},
     "output_type": "display_data"
    },
    {
     "data": {
      "image/png": "[encoded data removed]",
      "text/plain": [
       "<matplotlib.figure.Figure at 0x8485210>"
      ]
     },
     "metadata": {},
     "output_type": "display_data"
    }
   ],
   "source": [
    "for i in range(1,5):\n",
    "    plt.figure(figsize = (12,10))  \n",
    "    plt.subplot(2,2,i) #int('22'+str(i)))\n",
    "    plt.scatter(x = range(len(pedestrian)), y = pedestrian[\"Sept1\"+str(i)+\"_MD\"], color = \"pink\")\n",
    "    plt.xlabel(\"kiosk index\")\n",
    "    plt.ylabel(\"# of people\")\n",
    "    plt.ylim([0, 20000])\n",
    "    plt.title(\"September 201\"+str(i)+\"_MD\")\n",
    "    \n",
    "   \n",
    "plt.show()"
   ]
  },
  {
   "cell_type": "markdown",
   "metadata": {},
   "source": [
    "## Kiosk & Pedestrian"
   ]
  },
  {
   "cell_type": "code",
   "execution_count": 19,
   "metadata": {
    "collapsed": false
   },
   "outputs": [
    {
     "name": "stdout",
     "output_type": "stream",
     "text": [
      "9 places are crowded, 6 places are silent\n"
     ]
    }
   ],
   "source": [
    "print sum(pedestrian[\"May15_MD\"] > 8000),\"places are crowded,\", sum(pedestrian[\"May15_MD\"] < 200),\"places are silent\""
   ]
  },
  {
   "cell_type": "code",
   "execution_count": 20,
   "metadata": {
    "collapsed": false
   },
   "outputs": [
    {
     "name": "stdout",
     "output_type": "stream",
     "text": [
      "[35, 40, 43, 44, 50, 56, 64, 68, 91] [82, 98, 101, 109, 111, 112]\n"
     ]
    }
   ],
   "source": [
    "crowded_places = np.where(pedestrian[\"May15_MD\"] > 8000)[0]; silent_places = np.where(pedestrian[\"May15_MD\"] < 200)[0]\n",
    "crowded_places = crowded_places.tolist()#, silent_places\n",
    "silent_places = silent_places.tolist()\n",
    "print crowded_places,silent_places"
   ]
  },
  {
   "cell_type": "code",
   "execution_count": 21,
   "metadata": {
    "collapsed": true
   },
   "outputs": [],
   "source": [
    "crowded_place_lat = []\n",
    "crowded_place_long = []\n",
    "\n",
    "for place in crowded_places:\n",
    "    crowded_place_lat.append(pedestrian.ix[place][\"Latitude\"])\n",
    "    crowded_place_long.append(pedestrian.ix[place][\"Longitude\"])\n",
    "    \n",
    "silent_place_lat = []\n",
    "silent_place_long = []\n",
    "\n",
    "for place in silent_places:\n",
    "    silent_place_lat.append(pedestrian.ix[place][\"Latitude\"])\n",
    "    silent_place_long.append(pedestrian.ix[place][\"Longitude\"])"
   ]
  },
  {
   "cell_type": "code",
   "execution_count": 22,
   "metadata": {
    "collapsed": false,
    "scrolled": false
   },
   "outputs": [
    {
     "data": {
      "text/html": [
       "<iframe id=\"igraph\" scrolling=\"no\" style=\"border:none;\" seamless=\"seamless\" src=\"https://plot.ly/~wonkim0512/3.embed\" height=\"1000px\" width=\"1000px\"></iframe>"
      ],
      "text/plain": [
       "<plotly.tools.PlotlyDisplay object>"
      ]
     },
     "execution_count": 22,
     "metadata": {},
     "output_type": "execute_result"
    }
   ],
   "source": [
    "import plotly.plotly as py\n",
    "from plotly.graph_objs import *\n",
    "\n",
    "mapbox_access_token = 'pk.eyJ1IjoiY2hlbHNlYXBsb3RseSIsImEiOiJjaXFqeXVzdDkwMHFrZnRtOGtlMGtwcGs4In0.SLidkdBMEap9POJGIe1eGw'\n",
    "\n",
    "\n",
    "data = Data([\n",
    "    Scattermapbox(\n",
    "        lat=kiosk_latitude_list,\n",
    "        lon=kiosk_longitude_list,\n",
    "        mode='markers',\n",
    "        marker=Marker(\n",
    "            size=4\n",
    "        ),\n",
    "        text= kiosk_street_address, \n",
    "        name = \"NYCLink\"\n",
    "    ),\n",
    "    Scattermapbox(\n",
    "        lat=subway_entrance_latitude_list, \n",
    "        lon=subway_entrance_longitude_list,\n",
    "        mode='markers',\n",
    "        marker=Marker(\n",
    "            size=4\n",
    "        ),\n",
    "        text= subway_entrance_name_list, \n",
    "        name = \"Subway\"\n",
    "    ),\n",
    "    Scattermapbox(\n",
    "        lat= crowded_place_lat, \n",
    "        lon= crowded_place_long,\n",
    "        mode='markers',\n",
    "        marker=Marker(\n",
    "            size=9\n",
    "        ),\n",
    "        text= subway_entrance_name_list, \n",
    "        name = \"Crowded places\"\n",
    "    ),\n",
    "    Scattermapbox(\n",
    "        lat= silent_place_lat,\n",
    "        lon= silent_place_long,\n",
    "        mode='markers',\n",
    "        marker=Marker(\n",
    "            size=9\n",
    "        ),\n",
    "        text= subway_entrance_name_list, \n",
    "        name = \"Silent places\"\n",
    "    )\n",
    "])\n",
    "layout = Layout(\n",
    "    title='Crowded places & Silent places',\n",
    "    autosize=False, # False: could adjust the graph size manually\n",
    "    width=1000,\n",
    "    height=1000,\n",
    "    hovermode='closest',\n",
    "    mapbox=dict(\n",
    "        accesstoken=mapbox_access_token,\n",
    "        bearing=0,\n",
    "        center=dict(\n",
    "            lat= 40.730534,\n",
    "            lon= -73.907244 # where I want to make the center of my map\n",
    "        ),\n",
    "        pitch=0,\n",
    "        zoom=10\n",
    "    ),\n",
    ")\n",
    "\n",
    "fig = dict(data=data, layout=layout)\n",
    "py.iplot(fig, filename='Multiple Mapbox', validate=False)"
   ]
  },
  {
   "cell_type": "markdown",
   "metadata": {},
   "source": [
    "### Small Insight \n",
    "\n",
    "- Manhattan 중심부, Battery Park, Flushing 지역의 유동인구가 많음에도 불구하고 Kiosk가 없다??? \n",
    " - 걷는 사람이 많이 없어서 아닐까? 특히 배터리 파크와 플러싱에서는 바로 지하철을 타서 다른 지역으로 이동하는 비율이 높아서??\n",
    " \n",
    " \n",
    "- 맨하튼 중심부를 직사각형으로 감싼 형태를 띄고 있는데 이유가 있을까?\n",
    " - 이유"
   ]
  },
  {
   "cell_type": "markdown",
   "metadata": {
    "collapsed": true
   },
   "source": [
    "## Transportation  발전시켜야할 부분"
   ]
  },
  {
   "cell_type": "code",
   "execution_count": 23,
   "metadata": {
    "collapsed": false
   },
   "outputs": [
    {
     "data": {
      "text/html": [
       "<div>\n",
       "<table border=\"1\" class=\"dataframe\">\n",
       "  <thead>\n",
       "    <tr style=\"text-align: right;\">\n",
       "      <th></th>\n",
       "      <th>Type</th>\n",
       "      <th>Estimate</th>\n",
       "      <th>Margin of Error</th>\n",
       "    </tr>\n",
       "  </thead>\n",
       "  <tbody>\n",
       "    <tr>\n",
       "      <th>0</th>\n",
       "      <td>Total:</td>\n",
       "      <td>3,992,612</td>\n",
       "      <td>+/-21,149</td>\n",
       "    </tr>\n",
       "    <tr>\n",
       "      <th>1</th>\n",
       "      <td>Worked in Metropolitan Statistical Area of r...</td>\n",
       "      <td>3,953,634</td>\n",
       "      <td>+/-21,160</td>\n",
       "    </tr>\n",
       "    <tr>\n",
       "      <th>2</th>\n",
       "      <td>Worked in a principal city</td>\n",
       "      <td>3,731,459</td>\n",
       "      <td>+/-21,396</td>\n",
       "    </tr>\n",
       "    <tr>\n",
       "      <th>3</th>\n",
       "      <td>Worked outside any principal city</td>\n",
       "      <td>222,175</td>\n",
       "      <td>+/-9,593</td>\n",
       "    </tr>\n",
       "    <tr>\n",
       "      <th>4</th>\n",
       "      <td>Worked in a different Metropolitan Statistic...</td>\n",
       "      <td>33,965</td>\n",
       "      <td>+/-3,194</td>\n",
       "    </tr>\n",
       "    <tr>\n",
       "      <th>5</th>\n",
       "      <td>Worked in a principal city</td>\n",
       "      <td>18,238</td>\n",
       "      <td>+/-2,028</td>\n",
       "    </tr>\n",
       "    <tr>\n",
       "      <th>6</th>\n",
       "      <td>Worked outside any principal city</td>\n",
       "      <td>15,727</td>\n",
       "      <td>+/-2,340</td>\n",
       "    </tr>\n",
       "    <tr>\n",
       "      <th>7</th>\n",
       "      <td>Worked in a Micropolitan Statistical Area</td>\n",
       "      <td>1,639</td>\n",
       "      <td>+/-629</td>\n",
       "    </tr>\n",
       "    <tr>\n",
       "      <th>8</th>\n",
       "      <td>Worked outside any Metropolitan or Micropoli...</td>\n",
       "      <td>3,374</td>\n",
       "      <td>+/-1,107</td>\n",
       "    </tr>\n",
       "  </tbody>\n",
       "</table>\n",
       "</div>"
      ],
      "text/plain": [
       "                                                Type   Estimate  \\\n",
       "0                                             Total:  3,992,612   \n",
       "1    Worked in Metropolitan Statistical Area of r...  3,953,634   \n",
       "2                         Worked in a principal city  3,731,459   \n",
       "3                  Worked outside any principal city    222,175   \n",
       "4    Worked in a different Metropolitan Statistic...     33,965   \n",
       "5                         Worked in a principal city     18,238   \n",
       "6                  Worked outside any principal city     15,727   \n",
       "7          Worked in a Micropolitan Statistical Area      1,639   \n",
       "8    Worked outside any Metropolitan or Micropoli...      3,374   \n",
       "\n",
       "  Margin of Error  \n",
       "0       +/-21,149  \n",
       "1       +/-21,160  \n",
       "2       +/-21,396  \n",
       "3        +/-9,593  \n",
       "4        +/-3,194  \n",
       "5        +/-2,028  \n",
       "6        +/-2,340  \n",
       "7          +/-629  \n",
       "8        +/-1,107  "
      ]
     },
     "execution_count": 23,
     "metadata": {},
     "output_type": "execute_result"
    }
   ],
   "source": [
    "PLACE_OF_WORK = pd.read_csv('~/dss4/LinkNYC/transportation_data/(Preprocessed)PLACE OF WORK FOR WORKERS 16 YEARS AND OVER--METROPOLITAN STATISTICAL AREA LEVEL.csv')\n",
    "PLACE_OF_WORK"
   ]
  },
  {
   "cell_type": "code",
   "execution_count": null,
   "metadata": {
    "collapsed": true
   },
   "outputs": [],
   "source": []
  },
  {
   "cell_type": "code",
   "execution_count": null,
   "metadata": {
    "collapsed": true
   },
   "outputs": [],
   "source": []
  },
  {
   "cell_type": "markdown",
   "metadata": {},
   "source": [
    "# Part 2. Usage Analysis\n",
    "\n",
    "# CSV 불러올 때 인덱스 문제 해결해야함"
   ]
  },
  {
   "cell_type": "code",
   "execution_count": 24,
   "metadata": {
    "collapsed": false,
    "scrolled": true
   },
   "outputs": [
    {
     "data": {
      "text/html": [
       "<div>\n",
       "<table border=\"1\" class=\"dataframe\">\n",
       "  <thead>\n",
       "    <tr style=\"text-align: right;\">\n",
       "      <th></th>\n",
       "      <th>Unnamed: 0</th>\n",
       "      <th>Week</th>\n",
       "      <th>Sessions Per Week</th>\n",
       "      <th>Cumulative Sessions To Date</th>\n",
       "      <th>Bandwidth Utilization Per Week (TB)</th>\n",
       "      <th>Cumulative Bandwidth Utilization To Date (TB)</th>\n",
       "      <th>Average Session Duration(sec)</th>\n",
       "      <th>New Subscribers Per Week</th>\n",
       "      <th>Total Subscribers Per Week</th>\n",
       "      <th>Cumulative Subscribers To Date</th>\n",
       "      <th>Average Sessions Per Subscriber</th>\n",
       "    </tr>\n",
       "  </thead>\n",
       "  <tbody>\n",
       "    <tr>\n",
       "      <th>51</th>\n",
       "      <td>51</td>\n",
       "      <td>Week of 2/20/2017</td>\n",
       "      <td>5276948</td>\n",
       "      <td>109777685</td>\n",
       "      <td>36.25</td>\n",
       "      <td>829.40</td>\n",
       "      <td>264</td>\n",
       "      <td>33925</td>\n",
       "      <td>335773</td>\n",
       "      <td>1228904</td>\n",
       "      <td>15.715820</td>\n",
       "    </tr>\n",
       "    <tr>\n",
       "      <th>52</th>\n",
       "      <td>52</td>\n",
       "      <td>Week of 2/27/2017</td>\n",
       "      <td>5395485</td>\n",
       "      <td>115173170</td>\n",
       "      <td>36.57</td>\n",
       "      <td>870.86</td>\n",
       "      <td>260</td>\n",
       "      <td>27546</td>\n",
       "      <td>337532</td>\n",
       "      <td>1256450</td>\n",
       "      <td>15.985107</td>\n",
       "    </tr>\n",
       "    <tr>\n",
       "      <th>53</th>\n",
       "      <td>53</td>\n",
       "      <td>Week of 3/6/2017</td>\n",
       "      <td>5246526</td>\n",
       "      <td>120419696</td>\n",
       "      <td>36.08</td>\n",
       "      <td>911.88</td>\n",
       "      <td>262</td>\n",
       "      <td>24201</td>\n",
       "      <td>337109</td>\n",
       "      <td>1280651</td>\n",
       "      <td>15.563293</td>\n",
       "    </tr>\n",
       "    <tr>\n",
       "      <th>54</th>\n",
       "      <td>54</td>\n",
       "      <td>Week of 3/13/2017</td>\n",
       "      <td>5089725</td>\n",
       "      <td>125509421</td>\n",
       "      <td>34.37</td>\n",
       "      <td>951.31</td>\n",
       "      <td>275</td>\n",
       "      <td>28588</td>\n",
       "      <td>329391</td>\n",
       "      <td>1309239</td>\n",
       "      <td>15.451925</td>\n",
       "    </tr>\n",
       "    <tr>\n",
       "      <th>55</th>\n",
       "      <td>55</td>\n",
       "      <td>Week of 3/20/2017</td>\n",
       "      <td>5967035</td>\n",
       "      <td>131476456</td>\n",
       "      <td>39.91</td>\n",
       "      <td>996.62</td>\n",
       "      <td>265</td>\n",
       "      <td>30209</td>\n",
       "      <td>353800</td>\n",
       "      <td>1339448</td>\n",
       "      <td>16.865560</td>\n",
       "    </tr>\n",
       "  </tbody>\n",
       "</table>\n",
       "</div>"
      ],
      "text/plain": [
       "    Unnamed: 0               Week  Sessions Per Week  \\\n",
       "51          51  Week of 2/20/2017            5276948   \n",
       "52          52  Week of 2/27/2017            5395485   \n",
       "53          53   Week of 3/6/2017            5246526   \n",
       "54          54  Week of 3/13/2017            5089725   \n",
       "55          55  Week of 3/20/2017            5967035   \n",
       "\n",
       "    Cumulative Sessions To Date  Bandwidth Utilization Per Week (TB)  \\\n",
       "51                    109777685                                36.25   \n",
       "52                    115173170                                36.57   \n",
       "53                    120419696                                36.08   \n",
       "54                    125509421                                34.37   \n",
       "55                    131476456                                39.91   \n",
       "\n",
       "    Cumulative Bandwidth Utilization To Date (TB)  \\\n",
       "51                                         829.40   \n",
       "52                                         870.86   \n",
       "53                                         911.88   \n",
       "54                                         951.31   \n",
       "55                                         996.62   \n",
       "\n",
       "    Average Session Duration(sec)  New Subscribers Per Week  \\\n",
       "51                            264                     33925   \n",
       "52                            260                     27546   \n",
       "53                            262                     24201   \n",
       "54                            275                     28588   \n",
       "55                            265                     30209   \n",
       "\n",
       "    Total Subscribers Per Week  Cumulative Subscribers To Date  \\\n",
       "51                      335773                         1228904   \n",
       "52                      337532                         1256450   \n",
       "53                      337109                         1280651   \n",
       "54                      329391                         1309239   \n",
       "55                      353800                         1339448   \n",
       "\n",
       "    Average Sessions Per Subscriber  \n",
       "51                        15.715820  \n",
       "52                        15.985107  \n",
       "53                        15.563293  \n",
       "54                        15.451925  \n",
       "55                        16.865560  "
      ]
     },
     "execution_count": 24,
     "metadata": {},
     "output_type": "execute_result"
    }
   ],
   "source": [
    "LinkNYC_usage = pd.read_csv('~/dss4/LinkNYC/wifi_related_csv/(preprocessed)LinkNYC_Usage_Statistics.csv')\n",
    "LinkNYC_usage.tail()"
   ]
  },
  {
   "cell_type": "markdown",
   "metadata": {},
   "source": [
    "### Unexpected column named 'Unnamed: 0' continuously appears. To remove it, I took the process below."
   ]
  },
  {
   "cell_type": "code",
   "execution_count": 25,
   "metadata": {
    "collapsed": false,
    "scrolled": false
   },
   "outputs": [
    {
     "data": {
      "text/html": [
       "<div>\n",
       "<table border=\"1\" class=\"dataframe\">\n",
       "  <thead>\n",
       "    <tr style=\"text-align: right;\">\n",
       "      <th></th>\n",
       "      <th>Week</th>\n",
       "      <th>Sessions Per Week</th>\n",
       "      <th>Cumulative Sessions To Date</th>\n",
       "      <th>Bandwidth Utilization Per Week (TB)</th>\n",
       "      <th>Cumulative Bandwidth Utilization To Date (TB)</th>\n",
       "      <th>Average Session Duration(sec)</th>\n",
       "      <th>New Subscribers Per Week</th>\n",
       "      <th>Total Subscribers Per Week</th>\n",
       "      <th>Cumulative Subscribers To Date</th>\n",
       "      <th>Average Sessions Per Subscriber</th>\n",
       "    </tr>\n",
       "  </thead>\n",
       "  <tbody>\n",
       "    <tr>\n",
       "      <th>51</th>\n",
       "      <td>Week of 2/20/2017</td>\n",
       "      <td>5276948</td>\n",
       "      <td>109777685</td>\n",
       "      <td>36.25</td>\n",
       "      <td>829.40</td>\n",
       "      <td>264</td>\n",
       "      <td>33925</td>\n",
       "      <td>335773</td>\n",
       "      <td>1228904</td>\n",
       "      <td>15.715820</td>\n",
       "    </tr>\n",
       "    <tr>\n",
       "      <th>52</th>\n",
       "      <td>Week of 2/27/2017</td>\n",
       "      <td>5395485</td>\n",
       "      <td>115173170</td>\n",
       "      <td>36.57</td>\n",
       "      <td>870.86</td>\n",
       "      <td>260</td>\n",
       "      <td>27546</td>\n",
       "      <td>337532</td>\n",
       "      <td>1256450</td>\n",
       "      <td>15.985107</td>\n",
       "    </tr>\n",
       "    <tr>\n",
       "      <th>53</th>\n",
       "      <td>Week of 3/6/2017</td>\n",
       "      <td>5246526</td>\n",
       "      <td>120419696</td>\n",
       "      <td>36.08</td>\n",
       "      <td>911.88</td>\n",
       "      <td>262</td>\n",
       "      <td>24201</td>\n",
       "      <td>337109</td>\n",
       "      <td>1280651</td>\n",
       "      <td>15.563293</td>\n",
       "    </tr>\n",
       "    <tr>\n",
       "      <th>54</th>\n",
       "      <td>Week of 3/13/2017</td>\n",
       "      <td>5089725</td>\n",
       "      <td>125509421</td>\n",
       "      <td>34.37</td>\n",
       "      <td>951.31</td>\n",
       "      <td>275</td>\n",
       "      <td>28588</td>\n",
       "      <td>329391</td>\n",
       "      <td>1309239</td>\n",
       "      <td>15.451925</td>\n",
       "    </tr>\n",
       "    <tr>\n",
       "      <th>55</th>\n",
       "      <td>Week of 3/20/2017</td>\n",
       "      <td>5967035</td>\n",
       "      <td>131476456</td>\n",
       "      <td>39.91</td>\n",
       "      <td>996.62</td>\n",
       "      <td>265</td>\n",
       "      <td>30209</td>\n",
       "      <td>353800</td>\n",
       "      <td>1339448</td>\n",
       "      <td>16.865560</td>\n",
       "    </tr>\n",
       "  </tbody>\n",
       "</table>\n",
       "</div>"
      ],
      "text/plain": [
       "                 Week  Sessions Per Week  Cumulative Sessions To Date  \\\n",
       "51  Week of 2/20/2017            5276948                    109777685   \n",
       "52  Week of 2/27/2017            5395485                    115173170   \n",
       "53   Week of 3/6/2017            5246526                    120419696   \n",
       "54  Week of 3/13/2017            5089725                    125509421   \n",
       "55  Week of 3/20/2017            5967035                    131476456   \n",
       "\n",
       "    Bandwidth Utilization Per Week (TB)  \\\n",
       "51                                36.25   \n",
       "52                                36.57   \n",
       "53                                36.08   \n",
       "54                                34.37   \n",
       "55                                39.91   \n",
       "\n",
       "    Cumulative Bandwidth Utilization To Date (TB)  \\\n",
       "51                                         829.40   \n",
       "52                                         870.86   \n",
       "53                                         911.88   \n",
       "54                                         951.31   \n",
       "55                                         996.62   \n",
       "\n",
       "    Average Session Duration(sec)  New Subscribers Per Week  \\\n",
       "51                            264                     33925   \n",
       "52                            260                     27546   \n",
       "53                            262                     24201   \n",
       "54                            275                     28588   \n",
       "55                            265                     30209   \n",
       "\n",
       "    Total Subscribers Per Week  Cumulative Subscribers To Date  \\\n",
       "51                      335773                         1228904   \n",
       "52                      337532                         1256450   \n",
       "53                      337109                         1280651   \n",
       "54                      329391                         1309239   \n",
       "55                      353800                         1339448   \n",
       "\n",
       "    Average Sessions Per Subscriber  \n",
       "51                        15.715820  \n",
       "52                        15.985107  \n",
       "53                        15.563293  \n",
       "54                        15.451925  \n",
       "55                        16.865560  "
      ]
     },
     "execution_count": 25,
     "metadata": {},
     "output_type": "execute_result"
    }
   ],
   "source": [
    "LinkNYC_usage = LinkNYC_usage.drop(\"Unnamed: 0\", axis = 1)\n",
    "LinkNYC_usage.tail()"
   ]
  },
  {
   "cell_type": "code",
   "execution_count": 26,
   "metadata": {
    "collapsed": false
   },
   "outputs": [
    {
     "data": {
      "text/html": [
       "<iframe id=\"igraph\" scrolling=\"no\" style=\"border:none;\" seamless=\"seamless\" src=\"https://plot.ly/~wonkim0512/7.embed\" height=\"525px\" width=\"100%\"></iframe>"
      ],
      "text/plain": [
       "<plotly.tools.PlotlyDisplay object>"
      ]
     },
     "execution_count": 26,
     "metadata": {},
     "output_type": "execute_result"
    }
   ],
   "source": [
    "import plotly.plotly as py\n",
    "import plotly.graph_objs as go\n",
    "\n",
    "Average_Session_Duration_list = LinkNYC_usage[\"Average Session Duration(sec)\"].tolist()\n",
    "Average_Session_Duration_list = map(int, Average_Session_Duration_list) #preprocessing for y\n",
    "\n",
    "Average_Session_Duration = go.Scatter(\n",
    "    x = np.arange(len(LinkNYC_usage)),\n",
    "    y = Average_Session_Duration_list\n",
    ")\n",
    "\n",
    "data = [Average_Session_Duration]\n",
    "layout = go.Layout(\n",
    "    title = \"Average Session Duration(sec)\",\n",
    "    xaxis=dict(\n",
    "        title = \"week\",\n",
    "        autotick=False,\n",
    "        ticks='outside',\n",
    "        tick0=0,\n",
    "        dtick=1,\n",
    "        ticklen=8,\n",
    "        tickwidth=4,\n",
    "        tickcolor='#000'\n",
    "    ),\n",
    "    yaxis=dict(\n",
    "        title = \"seconds\",\n",
    "        autotick=False,\n",
    "        ticks='outside',\n",
    "        tick0=0,\n",
    "        dtick=20,\n",
    "        ticklen=8,\n",
    "        tickwidth=4,\n",
    "        tickcolor='#000'\n",
    "    )\n",
    ")\n",
    "fig = go.Figure(data=data, layout=layout)\n",
    "py.iplot(fig, filename='axes-ticks')"
   ]
  },
  {
   "cell_type": "markdown",
   "metadata": {},
   "source": [
    "### I might have imputed wrong value to week 40's Average Session Duration(sec) because it has a too big decreasing. I used 'imputation_mean_total' in preprocessing file. Let's take a closer look at it later."
   ]
  },
  {
   "cell_type": "code",
   "execution_count": null,
   "metadata": {
    "collapsed": true
   },
   "outputs": [],
   "source": []
  },
  {
   "cell_type": "code",
   "execution_count": null,
   "metadata": {
    "collapsed": true
   },
   "outputs": [],
   "source": []
  },
  {
   "cell_type": "code",
   "execution_count": null,
   "metadata": {
    "collapsed": true
   },
   "outputs": [],
   "source": []
  },
  {
   "cell_type": "code",
   "execution_count": 27,
   "metadata": {
    "collapsed": false,
    "scrolled": false
   },
   "outputs": [
    {
     "data": {
      "text/html": [
       "<iframe id=\"igraph\" scrolling=\"no\" style=\"border:none;\" seamless=\"seamless\" src=\"https://plot.ly/~wonkim0512/7.embed\" height=\"525px\" width=\"100%\"></iframe>"
      ],
      "text/plain": [
       "<plotly.tools.PlotlyDisplay object>"
      ]
     },
     "execution_count": 27,
     "metadata": {},
     "output_type": "execute_result"
    }
   ],
   "source": [
    "New_Subscribers_Per_Week_list = LinkNYC_usage[\"New Subscribers Per Week\"].tolist()\n",
    "New_Subscribers_Per_Week_list = map(int, New_Subscribers_Per_Week_list)\n",
    "\n",
    "New_Subscribers_Per_Week = go.Scatter(\n",
    "    x = np.arange(len(LinkNYC_usage)),\n",
    "    y = New_Subscribers_Per_Week_list\n",
    ")\n",
    "\n",
    "data = [New_Subscribers_Per_Week]\n",
    "layout = go.Layout(\n",
    "    title = \"New Subscribers Per Week\",\n",
    "    xaxis=dict(\n",
    "        title = \"week\",\n",
    "        autotick=False,\n",
    "        ticks='outside',\n",
    "        tick0=0,\n",
    "        dtick=1,\n",
    "        ticklen=8,\n",
    "        tickwidth=4,\n",
    "        tickcolor='#000'\n",
    "    ),\n",
    "    yaxis=dict(\n",
    "        title = \"subscribers\",\n",
    "        autotick=False,\n",
    "        ticks='outside',\n",
    "        tick0=0,\n",
    "        dtick=2000,\n",
    "        ticklen=8,\n",
    "        tickwidth=4,\n",
    "        tickcolor='#000'\n",
    "    )\n",
    ")\n",
    "fig = go.Figure(data=data, layout=layout)\n",
    "py.iplot(fig, filename='axes-ticks')\n"
   ]
  },
  {
   "cell_type": "code",
   "execution_count": 28,
   "metadata": {
    "collapsed": false
   },
   "outputs": [
    {
     "data": {
      "text/html": [
       "<iframe id=\"igraph\" scrolling=\"no\" style=\"border:none;\" seamless=\"seamless\" src=\"https://plot.ly/~wonkim0512/7.embed\" height=\"525px\" width=\"100%\"></iframe>"
      ],
      "text/plain": [
       "<plotly.tools.PlotlyDisplay object>"
      ]
     },
     "execution_count": 28,
     "metadata": {},
     "output_type": "execute_result"
    }
   ],
   "source": [
    "Cumulative_Subscribers_To_Date_list = LinkNYC_usage[\"Cumulative Subscribers To Date\"].tolist()\n",
    "Cumulative_Subscribers_To_Date_list = map(int, Cumulative_Subscribers_To_Date_list)\n",
    "\n",
    "Cumulative_Subscribers_To_Date = go.Scatter(\n",
    "    x = np.arange(len(LinkNYC_usage)),\n",
    "    y = Cumulative_Subscribers_To_Date_list\n",
    ")\n",
    "\n",
    "data = [Cumulative_Subscribers_To_Date]\n",
    "layout = go.Layout(\n",
    "    title = \"Cumulative Subscribers To Date\",\n",
    "    xaxis=dict(\n",
    "        title = \"week\",\n",
    "        autotick=False,\n",
    "        ticks='outside',\n",
    "        tick0=0,\n",
    "        dtick=1,\n",
    "        ticklen=8,\n",
    "        tickwidth=4,\n",
    "        tickcolor='#000'\n",
    "    ),\n",
    "    yaxis=dict(\n",
    "        title = \"subscribers\",\n",
    "        autotick=False,\n",
    "        ticks='outside',\n",
    "        tick0=0,\n",
    "        dtick=100000,\n",
    "        ticklen=8,\n",
    "        tickwidth=4,\n",
    "        tickcolor='#000'\n",
    "    )\n",
    ")\n",
    "fig = go.Figure(data=data, layout=layout)\n",
    "py.iplot(fig, filename='axes-ticks')\n"
   ]
  },
  {
   "cell_type": "code",
   "execution_count": 29,
   "metadata": {
    "collapsed": false,
    "scrolled": false
   },
   "outputs": [
    {
     "data": {
      "text/html": [
       "<iframe id=\"igraph\" scrolling=\"no\" style=\"border:none;\" seamless=\"seamless\" src=\"https://plot.ly/~wonkim0512/7.embed\" height=\"525px\" width=\"100%\"></iframe>"
      ],
      "text/plain": [
       "<plotly.tools.PlotlyDisplay object>"
      ]
     },
     "execution_count": 29,
     "metadata": {},
     "output_type": "execute_result"
    }
   ],
   "source": [
    "Average_Sessions_Per_Subscriber_list = LinkNYC_usage[\"Average Sessions Per Subscriber\"].tolist()\n",
    "Average_Sessions_Per_Subscriber_list = map(float, Average_Sessions_Per_Subscriber_list)\n",
    "\n",
    "Average_Sessions_Per_Subscriber = go.Scatter(\n",
    "    x = np.arange(len(LinkNYC_usage)),\n",
    "    y = Average_Sessions_Per_Subscriber_list\n",
    ")\n",
    "\n",
    "data = [Average_Sessions_Per_Subscriber]\n",
    "layout = go.Layout(\n",
    "    title = \"Average Sessions Per Subscriber\",\n",
    "    xaxis=dict(\n",
    "        title = \"week\",\n",
    "        autotick=False,\n",
    "        ticks='outside',\n",
    "        tick0=0,\n",
    "        dtick=1,\n",
    "        ticklen=8,\n",
    "        tickwidth=4,\n",
    "        tickcolor='#000'\n",
    "    ),\n",
    "    yaxis=dict(\n",
    "        title = \"sessions\",\n",
    "        autotick=False,\n",
    "        ticks='outside',\n",
    "        tick0=0,\n",
    "        dtick=2,\n",
    "        ticklen=8,\n",
    "        tickwidth=4,\n",
    "        tickcolor='#000'\n",
    "    )\n",
    ")\n",
    "fig = go.Figure(data=data, layout=layout)\n",
    "py.iplot(fig, filename='axes-ticks')\n"
   ]
  },
  {
   "cell_type": "markdown",
   "metadata": {},
   "source": [
    "### What the hell had happend from week 27 to week 32 and from week 38 to week 42? "
   ]
  },
  {
   "cell_type": "code",
   "execution_count": 30,
   "metadata": {
    "collapsed": false,
    "scrolled": true
   },
   "outputs": [
    {
     "name": "stdout",
     "output_type": "stream",
     "text": [
      "27      Week of 9/5/2016\n",
      "28     Week of 9/12/2016\n",
      "29     Week of 9/19/2016\n",
      "30     Week of 9/26/2016\n",
      "31     Week of 10/3/2016\n",
      "32    Week of 10/10/2016\n",
      "33    Week of 10/17/2016\n",
      "Name: Week, dtype: object\n",
      "******************************\n",
      "37    Week of 11/14/2016\n",
      "38    Week of 11/21/2016\n",
      "39    Week of 11/28/2016\n",
      "40     Week of 12/5/2016\n",
      "41    Week of 12/12/2016\n",
      "42    Week of 12/19/2016\n",
      "Name: Week, dtype: object\n"
     ]
    }
   ],
   "source": [
    "print LinkNYC_usage.ix[27:33, 0]\n",
    "print \"*\"*30\n",
    "print LinkNYC_usage.ix[37:42, 0]"
   ]
  },
  {
   "cell_type": "markdown",
   "metadata": {},
   "source": [
    "### Let's check 27th~32nd week first.\n",
    "\n",
    "\n",
    "- [Google Advanced Search for Specific Date: 9/5/2016 ~ 10/16/2016](https://www.google.co.kr/search?q=LinkNYC&biw=1360&bih=638&source=lnt&tbs=cdr%3A1%2Ccd_min%3A9%2F5%2F2016%2Ccd_max%3A10%2F16%2F2016&tbm=nws)\n",
    "\n",
    "\n",
    "- [LinkNYC Discovers the Difficulty of Bringing Free Wi-Fi to City Streets: 9/20/2016](https://motherboard.vice.com/en_us/article/linknyc-free-public-wifi-removes-browser)\n",
    "\n",
    "\n",
    "- [LinkNYC kiosks usage rises 12 percent one month after web browsing disabled: 10/4/2016](http://www.nydailynews.com/new-york/linknyc-kiosks-usage-rises-12-month-web-browsing-disabled-article-1.2817227)\n",
    "\n",
    "### small Insight\n",
    "- There is a lot of reports concluding negative words such as porn, masterbation, etc.\n",
    "\n",
    "$--------------------------------------------------------------$"
   ]
  },
  {
   "cell_type": "markdown",
   "metadata": {},
   "source": [
    "### 37th~42nd week next.\n",
    "\n",
    "\n",
    "- [LinkNYC Now Live in All 5 Boroughs](http://www.lightreading.com/gigabit/gigabit-cities/-linknyc-now-live-in-all-5-boroughs/d/d-id/728969)\n",
    "\n",
    "\n",
    "- [LinkNYC sets up first kiosks in Brooklyn](https://www.6sqft.com/linknyc-sets-up-first-kiosks-in-brooklyn-see-all-311-reported-blocked-bike-lanes-in-new-interactive-map/)\n",
    "\n",
    "### small Insight\n",
    "- LinkNYC Kiosks are finally installed outside of Manhattan such as Brooklyn, Staten Island."
   ]
  },
  {
   "cell_type": "markdown",
   "metadata": {
    "collapsed": true
   },
   "source": [
    "# Part 3. Language Analysis"
   ]
  },
  {
   "cell_type": "markdown",
   "metadata": {},
   "source": [
    "## Twitter"
   ]
  },
  {
   "cell_type": "markdown",
   "metadata": {},
   "source": [
    "- Firehose API \n",
    "- Stemming으로 running 등을 run으로 가져옴\n",
    "- stopword 이용하여 is, the 등 제거"
   ]
  },
  {
   "cell_type": "markdown",
   "metadata": {
    "collapsed": true
   },
   "source": [
    "### Too many obstacles for twitter crawling... I should find another way.\n",
    "- [Is it impossible to crawl the data at specific date?](http://stackoverflow.com/questions/12215671/crawl-twitter-data-according-to-specific-date)"
   ]
  },
  {
   "cell_type": "markdown",
   "metadata": {},
   "source": [
    "## Google Search Result"
   ]
  },
  {
   "cell_type": "code",
   "execution_count": null,
   "metadata": {
    "collapsed": true
   },
   "outputs": [],
   "source": []
  },
  {
   "cell_type": "code",
   "execution_count": null,
   "metadata": {
    "collapsed": true
   },
   "outputs": [],
   "source": []
  }
 ],
 "metadata": {
  "kernelspec": {
   "display_name": "Python 2",
   "language": "python",
   "name": "python2"
  },
  "language_info": {
   "codemirror_mode": {
    "name": "ipython",
    "version": 2
   },
   "file_extension": ".py",
   "mimetype": "text/x-python",
   "name": "python",
   "nbconvert_exporter": "python",
   "pygments_lexer": "ipython2",
   "version": "2.7.13"
  }
 },
 "nbformat": 4,
 "nbformat_minor": 2
}
